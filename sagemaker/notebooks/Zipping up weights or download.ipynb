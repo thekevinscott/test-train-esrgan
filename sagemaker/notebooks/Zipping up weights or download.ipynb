{
 "cells": [
  {
   "cell_type": "code",
   "execution_count": 11,
   "id": "31b03a76-5a55-4311-af6a-fcb0d1f426dd",
   "metadata": {},
   "outputs": [
    {
     "data": {
      "text/plain": [
       "'/notebooks/code/notebooks/weights.zip.zip'"
      ]
     },
     "execution_count": 11,
     "metadata": {},
     "output_type": "execute_result"
    }
   ],
   "source": [
    "import os\n",
    "import shutil\n",
    "import pathlib\n",
    "ROOT = pathlib.Path('/notebooks/code/volumes/checkpoints/weights')\n",
    "shutil.make_archive('weights', 'zip', ROOT)\n",
    "# for file in os.listdir(ROOT):\n",
    "#     if 'compress50' not in file:\n",
    "#         print(file)\n",
    "print('Ready for download')"
   ]
  },
  {
   "cell_type": "code",
   "execution_count": null,
   "id": "53a7afc7-fed1-4ea4-a812-ad6612b1880d",
   "metadata": {},
   "outputs": [],
   "source": []
  }
 ],
 "metadata": {
  "kernelspec": {
   "display_name": "Python 3",
   "language": "python",
   "name": "python3"
  },
  "language_info": {
   "codemirror_mode": {
    "name": "ipython",
    "version": 3
   },
   "file_extension": ".py",
   "mimetype": "text/x-python",
   "name": "python",
   "nbconvert_exporter": "python",
   "pygments_lexer": "ipython3",
   "version": "3.6.9"
  }
 },
 "nbformat": 4,
 "nbformat_minor": 5
}
