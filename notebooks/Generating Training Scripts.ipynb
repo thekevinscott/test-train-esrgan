{
 "cells": [
  {
   "cell_type": "markdown",
   "id": "337e6e68-e1fc-4bbb-9eb8-e60560dca696",
   "metadata": {},
   "source": [
    "A sample script:\n",
    "\n",
    "```\n",
    "../../bronco/bin/dev train --showLogs -p batches_per_epoch=20 -p epochs=500 -p model=rdn -p C=4 -p D=3 -p G=4 -p G0=64 -p lr=0.0004 --verbose -p hr_patch_size=128 -p scale=2 -e local -p dataset=div2kpreprocessed -p with_pruning=True -i /mnt/castellan/data/div2k-processed/preprocessed/2x\n",
    "```"
   ]
  },
  {
   "cell_type": "code",
   "execution_count": 4,
   "id": "b6de8aec-4395-43a3-9e83-5dddbe851cbb",
   "metadata": {
    "tags": []
   },
   "outputs": [
    {
     "name": "stdout",
     "output_type": "stream",
     "text": [
      "echo \"Running script 1 of 2\"\n",
      "../../bronco/bin/dev train --showLogs -a -e local --verbose -i /mnt/castellan/data/ffhq/preprocessed/2x -p batches_per_epoch=20 -p epochs=500 -p model=rdn -p C=1 -p D=2 -p G=4 -p G0=64 -p lr=0.0004 -p hr_patch_size=128 -p scale=2 -p dataset=ffhq\n",
      "echo \"Running script 2 of 2\"\n",
      "../../bronco/bin/dev train --showLogs -a -e local --verbose -i /mnt/castellan/data/div2k-flickr2k/preprocessed/2x -p batches_per_epoch=20 -p epochs=500 -p model=rdn -p C=1 -p D=2 -p G=4 -p G0=64 -p lr=0.0004 -p hr_patch_size=128 -p scale=2 -p dataset=div2k-flickr2k\n"
     ]
    }
   ],
   "source": [
    "import pathlib\n",
    "import os\n",
    "from IPython.display import display\n",
    "\n",
    "batches_per_epoch = 20\n",
    "epochs = 500\n",
    "lr = 0.0004\n",
    "\n",
    "scripts = []\n",
    "\n",
    "def make_script(script_parts):\n",
    "    return ' '.join(script_parts)\n",
    "    script_parts = [script_parts[0]] + [f'    {p}' for p in script_parts[1:]]\n",
    "    return ' \\ \\n'.join(script_parts)\n",
    "\n",
    "for dataset_name, dataset_path in [\n",
    "    # ('div2k', pathlib.Path('/mnt/castellan/data/div2k-processed/preprocessed')),\n",
    "    ('ffhq', pathlib.Path('/mnt/castellan/data/ffhq/preprocessed')),\n",
    "    ('div2k-flickr2k', pathlib.Path('/mnt/castellan/data/div2k-flickr2k/preprocessed')),\n",
    "]:\n",
    "    for compression, sharpen in [\n",
    "            (None, None),\n",
    "            # (True, None),\n",
    "            # (None, True),\n",
    "            # (True, True),\n",
    "        ]:\n",
    "\n",
    "        for arch, C, D, G, G0 in [\n",
    "            #small\n",
    "            ('rdn', 1, 2, 4, 64),\n",
    "            # #medium\n",
    "            # ('rdn', 1, 10, 64, 64),\n",
    "            # # large\n",
    "            # ('rrdn', 4, 3, 32, 64),\n",
    "        ]:\n",
    "            for scale, hr_patch_size in [\n",
    "                (2, 128), \n",
    "                # (3, 129), \n",
    "                # (4, 128),\n",
    "                # (8, 128),\n",
    "            ]:\n",
    "                scale_dataset_path = dataset_path / f'{scale}x'\n",
    "\n",
    "                script_parts = [\n",
    "                    '../../bronco/bin/dev',\n",
    "                    'train',\n",
    "                    '--showLogs',\n",
    "                    '-a',\n",
    "                    '-e local',\n",
    "                    '--verbose',\n",
    "                    f'-i {scale_dataset_path}',\n",
    "                    f'-p batches_per_epoch={batches_per_epoch}',\n",
    "                    f'-p epochs={epochs}',\n",
    "                    f'-p model={arch}',\n",
    "                    f'-p C={C}',\n",
    "                    f'-p D={D}',\n",
    "                    f'-p G={G}',\n",
    "                    f'-p G0={G0}',\n",
    "                    f'-p lr={lr}',\n",
    "                    f'-p hr_patch_size={hr_patch_size}',\n",
    "                    f'-p scale={scale}',\n",
    "                    f'-p dataset={dataset_name}',\n",
    "                ]\n",
    "                if compression is not None:\n",
    "                    script_parts.append(f'-p compression_quality=50')\n",
    "                    script_parts.append(f'-p vary_compression_quality=1')\n",
    "                if sharpen is not None:\n",
    "                    script_parts.append(f'-p sharpen_amount=1')\n",
    "                \n",
    "                scripts.append(make_script(script_parts))\n",
    "\n",
    "all_scripts = []\n",
    "for i, script in enumerate(scripts):\n",
    "    all_scripts.append(make_script([f'echo \"Running script {i + 1} of {len(scripts)}\"']))\n",
    "    all_scripts.append(script)\n",
    "script_command = \"\\n\".join(all_scripts)\n",
    "\n",
    "with open('../run_training_commands.sh', 'w') as f:\n",
    "    f.write(f'#!/bin/bash\\n\\n{script_command}')\n",
    "\n",
    "!chmod +x ../run_training_commands.sh\n",
    "\n",
    "print(script_command)\n"
   ]
  },
  {
   "cell_type": "code",
   "execution_count": null,
   "id": "0031c637-b0f0-43a4-88e7-2c59b4de93b2",
   "metadata": {},
   "outputs": [],
   "source": []
  }
 ],
 "metadata": {
  "kernelspec": {
   "display_name": "Python 3",
   "language": "python",
   "name": "python3"
  },
  "language_info": {
   "codemirror_mode": {
    "name": "ipython",
    "version": 3
   },
   "file_extension": ".py",
   "mimetype": "text/x-python",
   "name": "python",
   "nbconvert_exporter": "python",
   "pygments_lexer": "ipython3",
   "version": "3.6.9"
  }
 },
 "nbformat": 4,
 "nbformat_minor": 5
}
