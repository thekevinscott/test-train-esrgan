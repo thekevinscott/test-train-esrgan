{
 "cells": [
  {
   "cell_type": "code",
   "execution_count": 15,
   "id": "31b03a76-5a55-4311-af6a-fcb0d1f426dd",
   "metadata": {},
   "outputs": [],
   "source": [
    "import os\n",
    "import shutil\n",
    "import pathlib\n",
    "import sys\n",
    "ROOT = pathlib.Path('/notebooks/code/volumes/checkpoints/weights')"
   ]
  },
  {
   "cell_type": "code",
   "execution_count": 13,
   "id": "a47b293c-8a86-4efe-ba75-304425134dd9",
   "metadata": {},
   "outputs": [
    {
     "name": "stdout",
     "output_type": "stream",
     "text": [
      "Cloning into 'image-super-resolution'...\n",
      "remote: Enumerating objects: 1400, done.\u001b[K\n",
      "remote: Counting objects: 100% (65/65), done.\u001b[K\n",
      "remote: Compressing objects: 100% (41/41), done.\u001b[K\n",
      "remote: Total 1400 (delta 48), reused 41 (delta 24), pack-reused 1335\u001b[K\n",
      "Receiving objects: 100% (1400/1400), 14.98 MiB | 10.75 MiB/s, done.\n",
      "Resolving deltas: 100% (752/752), done.\n"
     ]
    }
   ],
   "source": [
    "!git clone https://github.com/thekevinscott/image-super-resolution.git\n",
    "!mv image-super-resolution/ISR image-super-resolution/IISR\n",
    "sys.path.insert(0,\"/notebooks/code/notebooks/image-super-resolution\")"
   ]
  },
  {
   "cell_type": "code",
   "execution_count": 44,
   "id": "53a7afc7-fed1-4ea4-a812-ad6612b1880d",
   "metadata": {
    "tags": []
   },
   "outputs": [
    {
     "name": "stdout",
     "output_type": "stream",
     "text": [
      "rm: cannot remove 'weights.zip': No such file or directory\n",
      "make weights.zip file for folder /notebooks/code/volumes/checkpoints/weights\n"
     ]
    },
    {
     "name": "stderr",
     "output_type": "stream",
     "text": [
      "100%|██████████| 225/225 [17:40<00:00,  4.71s/it]\n"
     ]
    },
    {
     "name": "stdout",
     "output_type": "stream",
     "text": [
      "Successfully processed 224 files\n",
      "The following 1 weights could not be processed\n",
      "-------------------------------\n",
      "/notebooks/code/volumes/checkpoints/weights/rrdn-C4-D3-G32-G064-T10-x3-patchsize129-compress50-sharpen0-datadiv2k-vary_cTrue/2022-09-29_2348/rrdn-C4-D3-G32-G064-T10-x3-patchsize129-compress50-sharpen0-datadiv2k-vary_cTrue_best-val_generator_PSNR_Y_epoch191.hdf5 Unable to open file (unable to open file: name = '/notebooks/code/volumes/checkpoints/weights/rrdn-C4-D3-G32-G064-T10-x3-patchsize129-compress50-sharpen0-datadiv2k-vary_cTrue/2022-09-29_2348/rrdn-C4-D3-G32-G064-T10-x3-patchsize129-compress50-sharpen0-datadiv2k-vary_cTrue_best-val_generator_PSNR_Y_epoch191.hdf5', errno = 2, error message = 'No such file or directory', flags = 0, o_flags = 0)\n",
      "Start making zip file\n",
      "Ready for download\n"
     ]
    }
   ],
   "source": [
    "!rm -rf ./weights2\n",
    "!rm -rf ./weights\n",
    "!rm weights2.zip\n",
    "!rm weights.zip\n",
    "\n",
    "from IISR.models import RDN, RRDN\n",
    "from tqdm import tqdm\n",
    "import tensorflow as tf\n",
    "\n",
    "def get_model(model, arch_params):\n",
    "    if model == 'rdn':\n",
    "        return RDN(arch_params=arch_params)\n",
    "    elif model == 'rrdn':\n",
    "        return RRDN(arch_params=arch_params)\n",
    "    raise Exception('No valid model found for ' + model)\n",
    "    \n",
    "def get_params(folder):\n",
    "    arch, C, D, G, G0, T, x, _, _2, _3, _4, _5 = folder.split('-')\n",
    "\n",
    "    arch_params = {\n",
    "        'C': int(C[1:]),\n",
    "        'D': int(D[1:]),\n",
    "        'G': int(G[1:]),\n",
    "        'G0':int(G0[2:]),\n",
    "        'x':int(x[1:])\n",
    "    }\n",
    "    if arch == 'rrdn':\n",
    "        arch_params['T'] = int(T[1:])\n",
    "    return arch, arch_params\n",
    "\n",
    "# def save_model(weights, output, arch, x, C, D, G, G0, T):\n",
    "#     model.model.load_weights('/code/weights/' + weights)\n",
    "#     model.model.save('/code/weights/' + output)\n",
    "\n",
    "def get_weights(folder):\n",
    "    weights = []\n",
    "    for date_folder in os.listdir(folder):\n",
    "        date_folder = folder / date_folder\n",
    "        weights += [str(date_folder / f) for f in os.listdir(date_folder) if 'srgan' not in f and f.endswith('hdf5')]\n",
    "    return weights\n",
    "\n",
    "def make_weights_zip(root, target):\n",
    "    print(f'make weights.zip file for folder {root}')\n",
    "    weights = []\n",
    "    errs = []\n",
    "\n",
    "    for folder in os.listdir(root):\n",
    "        arch, arch_params = get_params(folder)\n",
    "        weights += [(w, arch, arch_params) for w in get_weights(root / folder)]\n",
    "        \n",
    "    # weights = [w for w in weights if 'rrdn-C4-D3-G32-G064-T10-x4-patchsize128-compress100-sharpen0-datadiv2k-vary_cFalse_epoch491.hdf5' in w[0]]\n",
    "    weights = weights[0:]\n",
    "        \n",
    "    i = 0\n",
    "    for weight, arch, arch_params in tqdm(weights):\n",
    "        try:\n",
    "            tf.keras.backend.clear_session() # needed for https://github.com/tensorflow/tfjs/issues/755#issuecomment-489665951\n",
    "            model = get_model(arch, arch_params)\n",
    "            model.model.load_weights(weight)\n",
    "            weight_name = weight.split('/')[-3:]\n",
    "            weight_name = '/'.join(weight_name).split('.')[0] + '.h5'\n",
    "            target_path = target / weight_name\n",
    "            os.makedirs('/'.join(str(target_path).split('/')[0:-1]), exist_ok=True)\n",
    "            model.model.save(target_path)       \n",
    "            i += 1\n",
    "        except Exception as e:\n",
    "            errs += [(weight, e)]\n",
    "            \n",
    "    print(f'Successfully processed {i} files')\n",
    "    if len(errs) > 0:\n",
    "        print(f'The following {len(errs)} weights could not be processed\\n-------------------------------')\n",
    "        for err, e in errs:\n",
    "            print(err, e)\n",
    "\n",
    "    print('Start making zip file')\n",
    "    shutil.make_archive(root, 'zip', './')\n",
    "    print('Ready for download')\n",
    "    \n",
    "folder_name = 'weights'\n",
    "try:\n",
    "    os.remove(f'./{folder_name}.zip')\n",
    "except:\n",
    "    pass\n",
    "try:\n",
    "    shutil.rmtree(f'./{folder_name}')\n",
    "except:\n",
    "    pass\n",
    "make_weights_zip(ROOT, pathlib.Path(f'./{folder_name}'))"
   ]
  },
  {
   "cell_type": "code",
   "execution_count": null,
   "id": "e9c64976-cdb4-429b-8eee-0d15579e97e3",
   "metadata": {},
   "outputs": [],
   "source": []
  }
 ],
 "metadata": {
  "kernelspec": {
   "display_name": "Python 3",
   "language": "python",
   "name": "python3"
  },
  "language_info": {
   "codemirror_mode": {
    "name": "ipython",
    "version": 3
   },
   "file_extension": ".py",
   "mimetype": "text/x-python",
   "name": "python",
   "nbconvert_exporter": "python",
   "pygments_lexer": "ipython3",
   "version": "3.6.9"
  }
 },
 "nbformat": 4,
 "nbformat_minor": 5
}
