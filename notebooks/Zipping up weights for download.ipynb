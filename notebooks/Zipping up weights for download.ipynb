{
 "cells": [
  {
   "cell_type": "code",
   "execution_count": 3,
   "id": "31b03a76-5a55-4311-af6a-fcb0d1f426dd",
   "metadata": {},
   "outputs": [],
   "source": [
    "import os\n",
    "import shutil\n",
    "import pathlib\n",
    "import sys\n",
    "ROOT = pathlib.Path('/notebooks/code/volumes/checkpoints/weights')"
   ]
  },
  {
   "cell_type": "code",
   "execution_count": 5,
   "id": "a47b293c-8a86-4efe-ba75-304425134dd9",
   "metadata": {},
   "outputs": [
    {
     "name": "stdout",
     "output_type": "stream",
     "text": [
      "Cloning into 'image-super-resolution'...\n",
      "remote: Enumerating objects: 1578, done.\u001b[K\n",
      "remote: Counting objects: 100% (295/295), done.\u001b[K\n",
      "remote: Compressing objects: 100% (236/236), done.\u001b[K\n",
      "remote: Total 1578 (delta 89), reused 264 (delta 59), pack-reused 1283\u001b[K\n",
      "Receiving objects: 100% (1578/1578), 15.01 MiB | 32.28 MiB/s, done.\n",
      "Resolving deltas: 100% (792/792), done.\n"
     ]
    }
   ],
   "source": [
    "!rm -rf image-super-resolution\n",
    "!git clone https://github.com/thekevinscott/image-super-resolution.git\n",
    "!mv image-super-resolution/ISR image-super-resolution/IISR\n",
    "sys.path.insert(0,\"/notebooks/code/notebooks/image-super-resolution\")"
   ]
  },
  {
   "cell_type": "code",
   "execution_count": 6,
   "id": "53a7afc7-fed1-4ea4-a812-ad6612b1880d",
   "metadata": {
    "tags": []
   },
   "outputs": [
    {
     "ename": "ModuleNotFoundError",
     "evalue": "No module named 'ISR'",
     "output_type": "error",
     "traceback": [
      "\u001b[0;31m---------------------------------------------------------------------------\u001b[0m",
      "\u001b[0;31mModuleNotFoundError\u001b[0m                       Traceback (most recent call last)",
      "\u001b[0;32m<ipython-input-6-b5532b165034>\u001b[0m in \u001b[0;36m<module>\u001b[0;34m\u001b[0m\n\u001b[0;32m----> 1\u001b[0;31m \u001b[0;32mfrom\u001b[0m \u001b[0mIISR\u001b[0m\u001b[0;34m.\u001b[0m\u001b[0mmodels\u001b[0m \u001b[0;32mimport\u001b[0m \u001b[0mRDN\u001b[0m\u001b[0;34m,\u001b[0m \u001b[0mRRDN\u001b[0m\u001b[0;34m\u001b[0m\u001b[0;34m\u001b[0m\u001b[0m\n\u001b[0m\u001b[1;32m      2\u001b[0m \u001b[0;32mfrom\u001b[0m \u001b[0mtqdm\u001b[0m \u001b[0;32mimport\u001b[0m \u001b[0mtqdm\u001b[0m\u001b[0;34m\u001b[0m\u001b[0;34m\u001b[0m\u001b[0m\n\u001b[1;32m      3\u001b[0m \u001b[0;32mimport\u001b[0m \u001b[0mtensorflow\u001b[0m \u001b[0;32mas\u001b[0m \u001b[0mtf\u001b[0m\u001b[0;34m\u001b[0m\u001b[0;34m\u001b[0m\u001b[0m\n\u001b[1;32m      4\u001b[0m \u001b[0;34m\u001b[0m\u001b[0m\n\u001b[1;32m      5\u001b[0m \u001b[0;32mdef\u001b[0m \u001b[0mget_model\u001b[0m\u001b[0;34m(\u001b[0m\u001b[0mmodel\u001b[0m\u001b[0;34m,\u001b[0m \u001b[0march_params\u001b[0m\u001b[0;34m)\u001b[0m\u001b[0;34m:\u001b[0m\u001b[0;34m\u001b[0m\u001b[0;34m\u001b[0m\u001b[0m\n",
      "\u001b[0;32m/notebooks/code/notebooks/image-super-resolution/IISR/__init__.py\u001b[0m in \u001b[0;36m<module>\u001b[0;34m\u001b[0m\n\u001b[0;32m----> 1\u001b[0;31m \u001b[0;32mfrom\u001b[0m \u001b[0;34m.\u001b[0m \u001b[0;32mimport\u001b[0m \u001b[0massistant\u001b[0m\u001b[0;34m\u001b[0m\u001b[0;34m\u001b[0m\u001b[0m\n\u001b[0m\u001b[1;32m      2\u001b[0m \u001b[0;34m\u001b[0m\u001b[0m\n\u001b[1;32m      3\u001b[0m \u001b[0m__version__\u001b[0m \u001b[0;34m=\u001b[0m \u001b[0;34m'2.2.0'\u001b[0m\u001b[0;34m\u001b[0m\u001b[0;34m\u001b[0m\u001b[0m\n",
      "\u001b[0;32m/notebooks/code/notebooks/image-super-resolution/IISR/assistant.py\u001b[0m in \u001b[0;36m<module>\u001b[0;34m\u001b[0m\n\u001b[1;32m      4\u001b[0m \u001b[0;32mimport\u001b[0m \u001b[0mnumpy\u001b[0m \u001b[0;32mas\u001b[0m \u001b[0mnp\u001b[0m\u001b[0;34m\u001b[0m\u001b[0;34m\u001b[0m\u001b[0m\n\u001b[1;32m      5\u001b[0m \u001b[0;34m\u001b[0m\u001b[0m\n\u001b[0;32m----> 6\u001b[0;31m \u001b[0;32mfrom\u001b[0m \u001b[0mISR\u001b[0m\u001b[0;34m.\u001b[0m\u001b[0mutils\u001b[0m\u001b[0;34m.\u001b[0m\u001b[0mutils\u001b[0m \u001b[0;32mimport\u001b[0m \u001b[0msetup\u001b[0m\u001b[0;34m,\u001b[0m \u001b[0mparse_args\u001b[0m\u001b[0;34m\u001b[0m\u001b[0;34m\u001b[0m\u001b[0m\n\u001b[0m\u001b[1;32m      7\u001b[0m \u001b[0;32mfrom\u001b[0m \u001b[0mISR\u001b[0m\u001b[0;34m.\u001b[0m\u001b[0mutils\u001b[0m\u001b[0;34m.\u001b[0m\u001b[0mlogger\u001b[0m \u001b[0;32mimport\u001b[0m \u001b[0mget_logger\u001b[0m\u001b[0;34m\u001b[0m\u001b[0;34m\u001b[0m\u001b[0m\n\u001b[1;32m      8\u001b[0m \u001b[0;34m\u001b[0m\u001b[0m\n",
      "\u001b[0;31mModuleNotFoundError\u001b[0m: No module named 'ISR'"
     ]
    }
   ],
   "source": [
    "from IISR.models import RDN, RRDN\n",
    "from tqdm import tqdm\n",
    "import tensorflow as tf\n",
    "\n",
    "def get_model(model, arch_params):\n",
    "    if model == 'rdn':\n",
    "        return RDN(arch_params=arch_params)\n",
    "    elif model == 'rrdn':\n",
    "        return RRDN(arch_params=arch_params)\n",
    "    raise Exception('No valid model found for ' + model)\n",
    "    \n",
    "def get_params(folder):\n",
    "    arch, C, D, G, G0, T, x, _, _2, _3, _4, _5 = folder.split('-')\n",
    "\n",
    "    arch_params = {\n",
    "        'C': int(C[1:]),\n",
    "        'D': int(D[1:]),\n",
    "        'G': int(G[1:]),\n",
    "        'G0':int(G0[2:]),\n",
    "        'x':int(x[1:])\n",
    "    }\n",
    "    if arch == 'rrdn':\n",
    "        arch_params['T'] = int(T[1:])\n",
    "    return arch, arch_params\n",
    "\n",
    "# def save_model(weights, output, arch, x, C, D, G, G0, T):\n",
    "#     model.model.load_weights('/code/weights/' + weights)\n",
    "#     model.model.save('/code/weights/' + output)\n",
    "\n",
    "def get_weights(folder):\n",
    "    weights = []\n",
    "    for date_folder in os.listdir(folder):\n",
    "        date_folder = folder / date_folder\n",
    "        weights += [str(date_folder / f) for f in os.listdir(date_folder) if 'srgan' not in f and f.endswith('hdf5')]\n",
    "    return weights\n",
    "\n",
    "def convert_weight_files_to_model_files(root, target):\n",
    "    print(f'make weights.zip file for folder {root}')\n",
    "    weights = []\n",
    "    errs = []\n",
    "\n",
    "    for folder in os.listdir(root):\n",
    "        arch, arch_params = get_params(folder)\n",
    "        weights += [(w, arch, arch_params) for w in get_weights(root / folder)]\n",
    "        \n",
    "    # weights = [w for w in weights if 'rrdn-C4-D3-G32-G064-T10-x4-patchsize128-compress100-sharpen0-datadiv2k-vary_cFalse_epoch491.hdf5' in w[0]]\n",
    "    weights = weights[0:]\n",
    "        \n",
    "    i = 0\n",
    "    for weight, arch, arch_params in tqdm(weights):\n",
    "        try:\n",
    "            tf.keras.backend.clear_session() # needed for https://github.com/tensorflow/tfjs/issues/755#issuecomment-489665951\n",
    "            model = get_model(arch, arch_params)\n",
    "            model.model.load_weights(weight)\n",
    "            weight_name = weight.split('/')[-3:]\n",
    "            weight_name = '/'.join(weight_name).split('.')[0] + '.h5'\n",
    "            target_path = target / weight_name\n",
    "            os.makedirs('/'.join(str(target_path).split('/')[0:-1]), exist_ok=True)\n",
    "            model.model.save(target_path)       \n",
    "            i += 1\n",
    "        except Exception as e:\n",
    "            errs += [(weight, e)]\n",
    "            \n",
    "    print(f'Successfully processed {i} files')\n",
    "    if len(errs) > 0:\n",
    "        print(f'The following {len(errs)} weights could not be processed\\n-------------------------------')\n",
    "        for err, e in errs:\n",
    "            print(err, e)\n",
    "            \n",
    "def make_weights_zip(root):\n",
    "    print('Start making zip file')\n",
    "    shutil.make_archive(root, 'zip', './')\n",
    "    print('Ready for download')"
   ]
  },
  {
   "cell_type": "code",
   "execution_count": null,
   "id": "e9c64976-cdb4-429b-8eee-0d15579e97e3",
   "metadata": {},
   "outputs": [],
   "source": [
    "!rm -rf ./weights\n",
    "!rm weights.zip\n",
    "\n",
    "folder_name = 'weights'\n",
    "try:\n",
    "    os.remove(f'./{folder_name}.zip')\n",
    "except:\n",
    "    pass\n",
    "try:\n",
    "    shutil.rmtree(f'./{folder_name}')\n",
    "except:\n",
    "    pass\n",
    "convert_weight_files_to_model_files(ROOT, pathlib.Path(f'./{folder_name}'))\n",
    "# make_weights_zip(ROOT)"
   ]
  }
 ],
 "metadata": {
  "kernelspec": {
   "display_name": "Python 3",
   "language": "python",
   "name": "python3"
  },
  "language_info": {
   "codemirror_mode": {
    "name": "ipython",
    "version": 3
   },
   "file_extension": ".py",
   "mimetype": "text/x-python",
   "name": "python",
   "nbconvert_exporter": "python",
   "pygments_lexer": "ipython3",
   "version": "3.6.9"
  }
 },
 "nbformat": 4,
 "nbformat_minor": 5
}
